{
 "cells": [
  {
   "cell_type": "code",
   "execution_count": 7,
   "metadata": {},
   "outputs": [
    {
     "data": {
      "text/html": [
       "<button onclick=\"jQuery('.input_area').toggle(); jQuery('.prompt').toggle();\">Toggle code</button>"
      ]
     },
     "metadata": {},
     "output_type": "display_data"
    },
    {
     "data": {
      "text/html": [
       "<span style=\"color:GREEN ;font-size:1.4em;\"><b> DEMENTIA DETECTOR</b> </span> "
      ],
      "text/plain": [
       "<IPython.core.display.HTML object>"
      ]
     },
     "metadata": {},
     "output_type": "display_data"
    },
    {
     "data": {
      "application/vnd.jupyter.widget-view+json": {
       "model_id": "2ec0a077cb894461a49a440beb20fb10",
       "version_major": 2,
       "version_minor": 0
      },
      "text/plain": [
       "Text(value='', description='NAME:', placeholder='NAME')"
      ]
     },
     "metadata": {},
     "output_type": "display_data"
    },
    {
     "data": {
      "application/vnd.jupyter.widget-view+json": {
       "model_id": "6cae1840f83249db904e7ecf12559a85",
       "version_major": 2,
       "version_minor": 0
      },
      "text/plain": [
       "RadioButtons(description='GENDER:', options=('MALE', 'FEMALE'), value='MALE')"
      ]
     },
     "metadata": {},
     "output_type": "display_data"
    },
    {
     "data": {
      "application/vnd.jupyter.widget-view+json": {
       "model_id": "e2924e71524741e58ac0fb4100e2d039",
       "version_major": 2,
       "version_minor": 0
      },
      "text/plain": [
       "FloatText(value=0.0, description='AGE:')"
      ]
     },
     "metadata": {},
     "output_type": "display_data"
    },
    {
     "data": {
      "application/vnd.jupyter.widget-view+json": {
       "model_id": "063f2edeb7094825a7848772ddb8d82b",
       "version_major": 2,
       "version_minor": 0
      },
      "text/plain": [
       "FloatText(value=0.0, description='EDUC:')"
      ]
     },
     "metadata": {},
     "output_type": "display_data"
    },
    {
     "data": {
      "application/vnd.jupyter.widget-view+json": {
       "model_id": "95811d8337754a64b1795aa28cc65a1b",
       "version_major": 2,
       "version_minor": 0
      },
      "text/plain": [
       "FloatText(value=0.0, description='SES:')"
      ]
     },
     "metadata": {},
     "output_type": "display_data"
    },
    {
     "data": {
      "application/vnd.jupyter.widget-view+json": {
       "model_id": "2cbe485200984333b1630150420975e1",
       "version_major": 2,
       "version_minor": 0
      },
      "text/plain": [
       "FloatText(value=0.0, description='MMSE:')"
      ]
     },
     "metadata": {},
     "output_type": "display_data"
    },
    {
     "data": {
      "application/vnd.jupyter.widget-view+json": {
       "model_id": "c6676d4db10e462ebec4956a7836c7dc",
       "version_major": 2,
       "version_minor": 0
      },
      "text/plain": [
       "FloatText(value=0.0, description='eTIV:')"
      ]
     },
     "metadata": {},
     "output_type": "display_data"
    },
    {
     "data": {
      "application/vnd.jupyter.widget-view+json": {
       "model_id": "614caa5d93124a2fb08a2e8ecf6b7a30",
       "version_major": 2,
       "version_minor": 0
      },
      "text/plain": [
       "FloatText(value=0.0, description='nWBV:')"
      ]
     },
     "metadata": {},
     "output_type": "display_data"
    },
    {
     "data": {
      "application/vnd.jupyter.widget-view+json": {
       "model_id": "3f0eec38b0a54fb3b56664b6d350937c",
       "version_major": 2,
       "version_minor": 0
      },
      "text/plain": [
       "FloatText(value=0.0, description='ASF:')"
      ]
     },
     "metadata": {},
     "output_type": "display_data"
    },
    {
     "data": {
      "application/vnd.jupyter.widget-view+json": {
       "model_id": "6e9757d7bb2f4159bcf0d4062765d174",
       "version_major": 2,
       "version_minor": 0
      },
      "text/plain": [
       "Button(description='Sumbit', layout=Layout(height='40px', width='20%'), style=ButtonStyle(button_color='coral'…"
      ]
     },
     "metadata": {},
     "output_type": "display_data"
    }
   ],
   "source": [
    "from IPython.display import display\n",
    "from IPython.display import HTML\n",
    "import IPython.core.display as di # Example: di.display_html('<h3>%s:</h3>' % str, raw=True)\n",
    "\n",
    "# This line will hide code by default when the notebook is exported as HTML\n",
    "# di.display_html('<script>jQuery(function() {if (jQuery(\"body.notebook_app\").length == 0) { jQuery(\".input_area\").toggle(); jQuery(\".prompt\").toggle();}});</script>', raw=True)\n",
    "\n",
    "# This line will add a button to toggle visibility of code blocks, for use with the HTML export version\n",
    "di.display_html('''<button onclick=\"jQuery('.input_area').toggle(); jQuery('.prompt').toggle();\">Toggle code</button>''', raw=True)\n",
    "\n",
    "\n",
    "\n",
    "\n",
    "\n",
    "import ipywidgets as widgets\n",
    "from IPython.display import display\n",
    "import pandas as pd\n",
    "from IPython.display import Markdown, display\n",
    "from IPython.display import display, HTML\n",
    "from IPython.core.display import display, HTML\n",
    "display(HTML('<span style=\"color:GREEN ;font-size:1.4em;\"><b> DEMENTIA DETECTOR</b> </span> '))\n",
    "\n",
    "\n",
    "def inference_display():\n",
    "    out = widgets.Output(layout={'border': '10px solid black'})\n",
    "    out\n",
    "    \n",
    "    NAME=widgets.Text(\n",
    "        value='',\n",
    "        placeholder='NAME',\n",
    "        description='NAME:',\n",
    "        border='solid',\n",
    "        disabled=False\n",
    "    \n",
    "    )\n",
    "    display(NAME)\n",
    "   \n",
    "\n",
    "    text1=widgets.RadioButtons(\n",
    "        options=['MALE', 'FEMALE'],\n",
    "    #     value='pineapple',\n",
    "        description='GENDER:',\n",
    "        disabled=False\n",
    "    )\n",
    "    \n",
    "    if text1.value =='Male':\n",
    "        gen=1\n",
    "    else:\n",
    "        gen=0\n",
    "        \n",
    "        \n",
    "    text2=widgets.FloatText(\n",
    "            value=0,\n",
    "            description='AGE:',\n",
    "            disabled=False\n",
    "        )\n",
    "    \n",
    "    \n",
    "\n",
    "    text3=widgets.FloatText(\n",
    "                value=0,\n",
    "                description='EDUC:',\n",
    "                disabled=False\n",
    "            )\n",
    "\n",
    "    \n",
    "    text4=widgets.FloatText(\n",
    "            value=0,\n",
    "            description='SES:',\n",
    "            disabled=False\n",
    "        )\n",
    "\n",
    "    \n",
    "    text5=widgets.FloatText(\n",
    "            value=0,\n",
    "            description='MMSE:',\n",
    "            disabled=False\n",
    "        )\n",
    "    \n",
    "\n",
    "    text6=widgets.FloatText(\n",
    "            value=0,\n",
    "            description='eTIV:',\n",
    "            disabled=False\n",
    "        )\n",
    "\n",
    "    text7=widgets.FloatText(\n",
    "            value=0,\n",
    "            description='nWBV:',\n",
    "            disabled=False\n",
    "        )\n",
    "\n",
    "    text8=widgets.FloatText(\n",
    "            value=0,\n",
    "            description='ASF:',\n",
    "            disabled=False\n",
    "        )\n",
    "\n",
    "    display(text1)\n",
    "    display(text2)\n",
    "    display(text3)\n",
    "    display(text4)\n",
    "    display(text5)\n",
    "    display(text6)\n",
    "    display(text7)\n",
    "    display(text8) \n",
    "\n",
    "    btn=widgets.Button(description=\"Sumbit\")\n",
    "    btn.style.button_color = 'coral'\n",
    "    btn.layout.width = '20%'\n",
    "    btn.layout.height = '40px'\n",
    "    btn\n",
    "    display(btn)\n",
    "\n",
    "   # btn.on_click(infer)\n",
    "\n",
    "\n",
    "    def infer(b):\n",
    "        df = pd.read_csv('oasis_longitudinal.csv')\n",
    "\n",
    "    #print(\"Loading dataset\")\n",
    "\n",
    "    #fill null value with their column mean and median\n",
    "        df[\"SES\"].fillna(df[\"SES\"].median(), inplace=True)\n",
    "        df[\"MMSE\"].fillna(df[\"MMSE\"].mean(), inplace=True)\n",
    "\n",
    "\n",
    "\n",
    "\n",
    "        ex_df = df.loc[df['Visit'] == 1]\n",
    "\n",
    "\n",
    "        ex_df['Group'] = ex_df['Group'].replace(['Converted'], ['Demented'])\n",
    "        df['Group'] = df['Group'].replace(['Converted'], ['Demented'])\n",
    "\n",
    "    #convet the charecter data into numeric\n",
    "        group_map = {\"Demented\": 1, \"Nondemented\": 0}\n",
    "\n",
    "        df['Group'] = df['Group'].map(group_map)\n",
    "        df['M/F'] = df['M/F'].replace(['F','M'], [0,1])\n",
    "\n",
    "\n",
    "\n",
    "    # Encode columns into numeric\n",
    "        from sklearn.preprocessing import LabelEncoder\n",
    "        for column in df.columns:\n",
    "            le = LabelEncoder()\n",
    "            df[column] = le.fit_transform(df[column])\n",
    "\n",
    "        #print(df.head(5))\n",
    "        feature_col_names = [\"M/F\", \"Age\", \"EDUC\", \"SES\", \"MMSE\", \"eTIV\", \"nWBV\", \"ASF\"]\n",
    "        predicted_class_names = ['Group']\n",
    "\n",
    "        X = df[feature_col_names].values\n",
    "        y = df[predicted_class_names].values\n",
    "        from sklearn.model_selection import train_test_split\n",
    "        X_train, X_test, y_train, y_test = train_test_split(X, y, test_size=0.3)\n",
    "        from sklearn.ensemble import RandomForestClassifier  \n",
    "        rfc=RandomForestClassifier(criterion='gini',max_depth=8,max_features='auto',n_estimators=200)\n",
    "\n",
    "        param_grid = { \n",
    "            'n_estimators': [200],\n",
    "            'max_features': ['auto'],\n",
    "            'max_depth' : [4,5,6,7,8],\n",
    "            'criterion' :['gini']\n",
    "        }\n",
    "\n",
    "        #CV_rfc = GridSearchCV(estimator=rfc, param_grid=param_grid, cv= 5,scoring = 'roc_auc')\n",
    "        rfc.fit(X_train, y_train.ravel())\n",
    "        #print(\"Best parameters set found on development set:\")\n",
    "        #print(rfc.best_params_)\n",
    "\n",
    "\n",
    "        y_pred=rfc.predict([[gen,text2.value,text3.value,text4.value,text5.value,text6.value,text7.value,text8.value]])\n",
    "\n",
    "        if(y_pred ==1):\n",
    "            print(\"The patient is DEMENTED\")\n",
    "        else:\n",
    "            print(\"The patient is NOT DEMENTED\")\n",
    "    btn.on_click(infer)\n",
    "   \n",
    "\n",
    "inference_display()\n",
    "\n"
   ]
  },
  {
   "cell_type": "code",
   "execution_count": null,
   "metadata": {
    "collapsed": true
   },
   "outputs": [],
   "source": []
  }
 ],
 "metadata": {
  "kernelspec": {
   "display_name": "Python 3",
   "language": "python",
   "name": "python3"
  },
  "language_info": {
   "codemirror_mode": {
    "name": "ipython",
    "version": 3
   },
   "file_extension": ".py",
   "mimetype": "text/x-python",
   "name": "python",
   "nbconvert_exporter": "python",
   "pygments_lexer": "ipython3",
   "version": "3.7.4"
  },
  "widgets": {
   "application/vnd.jupyter.widget-state+json": {
    "state": {
     "006487fa0948452fae91f8315a30b928": {
      "model_module": "@jupyter-widgets/base",
      "model_module_version": "1.2.0",
      "model_name": "LayoutModel",
      "state": {}
     },
     "00cfcfea129a4e68bfdb54715c43ed41": {
      "model_module": "@jupyter-widgets/controls",
      "model_module_version": "1.5.0",
      "model_name": "RadioButtonsModel",
      "state": {
       "_options_labels": [
        "MALE",
        "FEMALE"
       ],
       "description": "GENDER:",
       "index": 0,
       "layout": "IPY_MODEL_5b0e657ffe5d4aed82ba59ab4eb33ca5",
       "style": "IPY_MODEL_6b08312c76ed4993acf2c0158cb3470a"
      }
     },
     "01a725a9cdc248cc86f61beff3ac0b78": {
      "model_module": "@jupyter-widgets/base",
      "model_module_version": "1.2.0",
      "model_name": "LayoutModel",
      "state": {}
     },
     "01bc34f7d02d4b3781e30fd99a2899bf": {
      "model_module": "@jupyter-widgets/controls",
      "model_module_version": "1.5.0",
      "model_name": "ButtonStyleModel",
      "state": {
       "button_color": "coral"
      }
     },
     "032c236635bd4d56b9e1940eea64791c": {
      "model_module": "@jupyter-widgets/controls",
      "model_module_version": "1.5.0",
      "model_name": "FloatTextModel",
      "state": {
       "description": "MMSE:",
       "layout": "IPY_MODEL_61f58dca4f9442419622738f6b69d732",
       "step": null,
       "style": "IPY_MODEL_07a7a3b51e8f455ab057b075230509c7"
      }
     },
     "06b56cdc24f4426db5239ebbd4cea98e": {
      "model_module": "@jupyter-widgets/controls",
      "model_module_version": "1.5.0",
      "model_name": "DescriptionStyleModel",
      "state": {
       "description_width": ""
      }
     },
     "07122f177ef1419493f28d834502fa09": {
      "model_module": "@jupyter-widgets/controls",
      "model_module_version": "1.5.0",
      "model_name": "DescriptionStyleModel",
      "state": {
       "description_width": ""
      }
     },
     "07a7a3b51e8f455ab057b075230509c7": {
      "model_module": "@jupyter-widgets/controls",
      "model_module_version": "1.5.0",
      "model_name": "DescriptionStyleModel",
      "state": {
       "description_width": ""
      }
     },
     "09f8ed3891ac43e49cde7403dc11dbb2": {
      "model_module": "@jupyter-widgets/output",
      "model_module_version": "1.0.0",
      "model_name": "OutputModel",
      "state": {
       "layout": "IPY_MODEL_d4a822b851264780b4576f6f692fb8d2"
      }
     },
     "0b7d551bcb584c498374ec2e0e6dc70a": {
      "model_module": "@jupyter-widgets/controls",
      "model_module_version": "1.5.0",
      "model_name": "TextModel",
      "state": {
       "description": "NAME:",
       "layout": "IPY_MODEL_d6a6e8c72f624ed3aeace9996e6d2290",
       "placeholder": "NAME",
       "style": "IPY_MODEL_335580201c3b451cb3ac1cdccde1bcef"
      }
     },
     "0d9b9b4f11b24a02992b681a3ca5e314": {
      "model_module": "@jupyter-widgets/controls",
      "model_module_version": "1.5.0",
      "model_name": "DescriptionStyleModel",
      "state": {
       "description_width": ""
      }
     },
     "0dd69fff31ce4d97b4e097c3940e3385": {
      "model_module": "@jupyter-widgets/base",
      "model_module_version": "1.2.0",
      "model_name": "LayoutModel",
      "state": {}
     },
     "0e82e591d3e24da495a62ef8fd1d7b82": {
      "model_module": "@jupyter-widgets/controls",
      "model_module_version": "1.5.0",
      "model_name": "DescriptionStyleModel",
      "state": {
       "description_width": ""
      }
     },
     "0ecb2170e71f48b2b44f37ff358f5929": {
      "model_module": "@jupyter-widgets/base",
      "model_module_version": "1.2.0",
      "model_name": "LayoutModel",
      "state": {}
     },
     "0f4cdd4a9ae94fb5ba96f3a23bd6fdc5": {
      "model_module": "@jupyter-widgets/controls",
      "model_module_version": "1.5.0",
      "model_name": "FloatTextModel",
      "state": {
       "description": "MMSE:",
       "layout": "IPY_MODEL_a6ba313870384a69a8633de3f581d664",
       "step": null,
       "style": "IPY_MODEL_0d9b9b4f11b24a02992b681a3ca5e314"
      }
     },
     "10d271db986542e5833e3468a8b12dc0": {
      "model_module": "@jupyter-widgets/base",
      "model_module_version": "1.2.0",
      "model_name": "LayoutModel",
      "state": {}
     },
     "142c7a1db2e54ce3af51b27c4b54b8bc": {
      "model_module": "@jupyter-widgets/base",
      "model_module_version": "1.2.0",
      "model_name": "LayoutModel",
      "state": {}
     },
     "1569c000f86b496696dc2e5ebd7d107d": {
      "model_module": "@jupyter-widgets/controls",
      "model_module_version": "1.5.0",
      "model_name": "ButtonStyleModel",
      "state": {
       "button_color": "coral"
      }
     },
     "1761e996b6334d20977c89d856c95b70": {
      "model_module": "@jupyter-widgets/base",
      "model_module_version": "1.2.0",
      "model_name": "LayoutModel",
      "state": {}
     },
     "1782c782318d4ea3a0c44c25d8ed855f": {
      "model_module": "@jupyter-widgets/controls",
      "model_module_version": "1.5.0",
      "model_name": "DescriptionStyleModel",
      "state": {
       "description_width": ""
      }
     },
     "17a9ca89da734585be1d02cdadaf0e3d": {
      "model_module": "@jupyter-widgets/base",
      "model_module_version": "1.2.0",
      "model_name": "LayoutModel",
      "state": {}
     },
     "18ebde0bf5cb48c68ca5e827b4bced1c": {
      "model_module": "@jupyter-widgets/controls",
      "model_module_version": "1.5.0",
      "model_name": "FloatTextModel",
      "state": {
       "description": "AGE:",
       "layout": "IPY_MODEL_b90e8627fdf94131bb9550f5dcf1d383",
       "step": null,
       "style": "IPY_MODEL_ac8dc462e28346e6b1db48c9d9a3c30d"
      }
     },
     "19ba495463334eafbae5a016a37c8ed8": {
      "model_module": "@jupyter-widgets/controls",
      "model_module_version": "1.5.0",
      "model_name": "ButtonModel",
      "state": {
       "description": "Sumbit",
       "layout": "IPY_MODEL_7b6df642dd6549f7b5633802d0fac096",
       "style": "IPY_MODEL_5af21c80c46b4826b0239b65e5fdff73"
      }
     },
     "1a319963625246548c8e10ae7cda1321": {
      "model_module": "@jupyter-widgets/base",
      "model_module_version": "1.2.0",
      "model_name": "LayoutModel",
      "state": {}
     },
     "1b2e236430534e6791dce03421a2af0e": {
      "model_module": "@jupyter-widgets/controls",
      "model_module_version": "1.5.0",
      "model_name": "FloatTextModel",
      "state": {
       "description": "eTIV:",
       "layout": "IPY_MODEL_32746e70be38416bbece5b758fe88af3",
       "step": null,
       "style": "IPY_MODEL_e53ed06c21564275864b52b7818abf5a"
      }
     },
     "1b46b64defd54edeb9e3e6ea0866ed05": {
      "model_module": "@jupyter-widgets/controls",
      "model_module_version": "1.5.0",
      "model_name": "DescriptionStyleModel",
      "state": {
       "description_width": ""
      }
     },
     "1c0ab9622b494bad8c84c4e0a17f1db2": {
      "model_module": "@jupyter-widgets/controls",
      "model_module_version": "1.5.0",
      "model_name": "FloatTextModel",
      "state": {
       "description": "EDUC:",
       "layout": "IPY_MODEL_39643e02ac9f45088267ccec5828b8fc",
       "step": null,
       "style": "IPY_MODEL_8f2e1264697b4dad8764e748adddf959"
      }
     },
     "1e1682d21e794c97b4cb62f9ae8fec10": {
      "model_module": "@jupyter-widgets/controls",
      "model_module_version": "1.5.0",
      "model_name": "DescriptionStyleModel",
      "state": {
       "description_width": ""
      }
     },
     "1f4ab203262d4836b211bc134fc2c61a": {
      "model_module": "@jupyter-widgets/controls",
      "model_module_version": "1.5.0",
      "model_name": "DescriptionStyleModel",
      "state": {
       "description_width": ""
      }
     },
     "2077b50b09164c87b23354663c872da9": {
      "model_module": "@jupyter-widgets/controls",
      "model_module_version": "1.5.0",
      "model_name": "ButtonModel",
      "state": {
       "description": "Sumbit",
       "layout": "IPY_MODEL_847fc09fc5aa40e6abaf9e4a7edbd79b",
       "style": "IPY_MODEL_01bc34f7d02d4b3781e30fd99a2899bf"
      }
     },
     "20bcb49c1c5946bab3a7f9dd1d669285": {
      "model_module": "@jupyter-widgets/output",
      "model_module_version": "1.0.0",
      "model_name": "OutputModel",
      "state": {
       "layout": "IPY_MODEL_9f4fd19585f8499ba176ddd08ce7c7bd"
      }
     },
     "21963502fef74bedbc71f3a3976078a9": {
      "model_module": "@jupyter-widgets/controls",
      "model_module_version": "1.5.0",
      "model_name": "FloatTextModel",
      "state": {
       "description": "MMSE:",
       "layout": "IPY_MODEL_10d271db986542e5833e3468a8b12dc0",
       "step": null,
       "style": "IPY_MODEL_1f4ab203262d4836b211bc134fc2c61a"
      }
     },
     "22a84ae3b7ca4fb2879ae45acc235673": {
      "model_module": "@jupyter-widgets/controls",
      "model_module_version": "1.5.0",
      "model_name": "DescriptionStyleModel",
      "state": {
       "description_width": ""
      }
     },
     "24a24b2666b941f180a13303d1056764": {
      "model_module": "@jupyter-widgets/base",
      "model_module_version": "1.2.0",
      "model_name": "LayoutModel",
      "state": {}
     },
     "259707a0894e418ebe3f12217bd438af": {
      "model_module": "@jupyter-widgets/base",
      "model_module_version": "1.2.0",
      "model_name": "LayoutModel",
      "state": {}
     },
     "26b496001baa49018ce03b31910c51d2": {
      "model_module": "@jupyter-widgets/controls",
      "model_module_version": "1.5.0",
      "model_name": "ButtonStyleModel",
      "state": {
       "button_color": "coral"
      }
     },
     "26ea15c3234f44f4b646ff53be60b893": {
      "model_module": "@jupyter-widgets/controls",
      "model_module_version": "1.5.0",
      "model_name": "DescriptionStyleModel",
      "state": {
       "description_width": ""
      }
     },
     "28a68a8576be4d7caba3b36a5ea4dd8e": {
      "model_module": "@jupyter-widgets/controls",
      "model_module_version": "1.5.0",
      "model_name": "DescriptionStyleModel",
      "state": {
       "description_width": ""
      }
     },
     "29ae566879ff481a9b2b78f93c81c07d": {
      "model_module": "@jupyter-widgets/controls",
      "model_module_version": "1.5.0",
      "model_name": "FloatTextModel",
      "state": {
       "description": "ASF:",
       "layout": "IPY_MODEL_f5d44b17915f4084a48973fdb2c42950",
       "step": null,
       "style": "IPY_MODEL_06b56cdc24f4426db5239ebbd4cea98e"
      }
     },
     "2bb6028a4596442e8a6eee7b94a6d135": {
      "model_module": "@jupyter-widgets/controls",
      "model_module_version": "1.5.0",
      "model_name": "FloatTextModel",
      "state": {
       "description": "nWBV:",
       "layout": "IPY_MODEL_c064bb59f0a944c1a954ee36068a6333",
       "step": null,
       "style": "IPY_MODEL_f8cc707a66994c64b7647d684ab3f4b5"
      }
     },
     "2cede4d4f3e9403b9f19fe6bf2592094": {
      "model_module": "@jupyter-widgets/controls",
      "model_module_version": "1.5.0",
      "model_name": "DescriptionStyleModel",
      "state": {
       "description_width": ""
      }
     },
     "2e36e608caf54c28a5554b341bf107be": {
      "model_module": "@jupyter-widgets/controls",
      "model_module_version": "1.5.0",
      "model_name": "FloatTextModel",
      "state": {
       "description": "ASF:",
       "layout": "IPY_MODEL_2f14e3ed7fc54daf8a29289d6b17e03e",
       "step": null,
       "style": "IPY_MODEL_07122f177ef1419493f28d834502fa09"
      }
     },
     "2e46edbc7a234681a8133e9dcd1a75bd": {
      "model_module": "@jupyter-widgets/controls",
      "model_module_version": "1.5.0",
      "model_name": "DescriptionStyleModel",
      "state": {
       "description_width": ""
      }
     },
     "2e50aae68f244521afa12f242ef20b47": {
      "model_module": "@jupyter-widgets/base",
      "model_module_version": "1.2.0",
      "model_name": "LayoutModel",
      "state": {}
     },
     "2f14e3ed7fc54daf8a29289d6b17e03e": {
      "model_module": "@jupyter-widgets/base",
      "model_module_version": "1.2.0",
      "model_name": "LayoutModel",
      "state": {}
     },
     "2f6271c4a33c4d79813c2d8f0c03549a": {
      "model_module": "@jupyter-widgets/controls",
      "model_module_version": "1.5.0",
      "model_name": "DescriptionStyleModel",
      "state": {
       "description_width": ""
      }
     },
     "32746e70be38416bbece5b758fe88af3": {
      "model_module": "@jupyter-widgets/base",
      "model_module_version": "1.2.0",
      "model_name": "LayoutModel",
      "state": {}
     },
     "32fbef19905b45138ad71dc7ff1600ab": {
      "model_module": "@jupyter-widgets/controls",
      "model_module_version": "1.5.0",
      "model_name": "FloatTextModel",
      "state": {
       "description": "AGE:",
       "layout": "IPY_MODEL_c93681c6b9ba4cf1abb72551fb5771fa",
       "step": null,
       "style": "IPY_MODEL_cab76be489894e2eb35e5a683f89d713"
      }
     },
     "335580201c3b451cb3ac1cdccde1bcef": {
      "model_module": "@jupyter-widgets/controls",
      "model_module_version": "1.5.0",
      "model_name": "DescriptionStyleModel",
      "state": {
       "description_width": ""
      }
     },
     "35276a69a83241c7a188a5aef6428fa9": {
      "model_module": "@jupyter-widgets/controls",
      "model_module_version": "1.5.0",
      "model_name": "FloatTextModel",
      "state": {
       "description": "SES:",
       "layout": "IPY_MODEL_e9cbde13f9cf459c8226d252e4acfdc4",
       "step": null,
       "style": "IPY_MODEL_ff43b8ff5d824fdd94e9ebaf70c2d839"
      }
     },
     "353c08d0b5b948f382b466b51a68bd49": {
      "model_module": "@jupyter-widgets/controls",
      "model_module_version": "1.5.0",
      "model_name": "FloatTextModel",
      "state": {
       "description": "eTIV:",
       "layout": "IPY_MODEL_b06a9df48b154bf7b5eab8997a44ec5a",
       "step": null,
       "style": "IPY_MODEL_0e82e591d3e24da495a62ef8fd1d7b82"
      }
     },
     "39643e02ac9f45088267ccec5828b8fc": {
      "model_module": "@jupyter-widgets/base",
      "model_module_version": "1.2.0",
      "model_name": "LayoutModel",
      "state": {}
     },
     "3af9858240444205b881e579b7ef71db": {
      "model_module": "@jupyter-widgets/controls",
      "model_module_version": "1.5.0",
      "model_name": "RadioButtonsModel",
      "state": {
       "_options_labels": [
        "MALE",
        "FEMALE"
       ],
       "description": "GENDER:",
       "index": 0,
       "layout": "IPY_MODEL_ea175d39137849a0bfce1cca06d51b77",
       "style": "IPY_MODEL_7c410a8b8c73435199bf69bcfe030db4"
      }
     },
     "3b765871edb34d7a9bb2160ab1ade92f": {
      "model_module": "@jupyter-widgets/base",
      "model_module_version": "1.2.0",
      "model_name": "LayoutModel",
      "state": {}
     },
     "3c0b4c118bf040f6b3c79bf940b10cdd": {
      "model_module": "@jupyter-widgets/controls",
      "model_module_version": "1.5.0",
      "model_name": "FloatTextModel",
      "state": {
       "description": "nWBV:",
       "layout": "IPY_MODEL_c1572c8c6fc6497b8bba6e672084aaa7",
       "step": null,
       "style": "IPY_MODEL_a0787d19098f4d76a88a7e4dd2562f43"
      }
     },
     "3c3f058f732f43ff80960a4dedbb0c4a": {
      "model_module": "@jupyter-widgets/controls",
      "model_module_version": "1.5.0",
      "model_name": "DescriptionStyleModel",
      "state": {
       "description_width": ""
      }
     },
     "3ccda8b2ef7f4d1bb213f202d4c33fc7": {
      "model_module": "@jupyter-widgets/base",
      "model_module_version": "1.2.0",
      "model_name": "LayoutModel",
      "state": {}
     },
     "3ec83587955e4c0ca13abc74566656a6": {
      "model_module": "@jupyter-widgets/controls",
      "model_module_version": "1.5.0",
      "model_name": "DescriptionStyleModel",
      "state": {
       "description_width": ""
      }
     },
     "437662e3afa743f8afad398d6b4a5d30": {
      "model_module": "@jupyter-widgets/controls",
      "model_module_version": "1.5.0",
      "model_name": "RadioButtonsModel",
      "state": {
       "_options_labels": [
        "MALE",
        "FEMALE"
       ],
       "description": "GENDER:",
       "index": 0,
       "layout": "IPY_MODEL_bd750fabe5674bf787748b8471f45ccc",
       "style": "IPY_MODEL_28a68a8576be4d7caba3b36a5ea4dd8e"
      }
     },
     "43d3361e99de410090649d189d194f16": {
      "model_module": "@jupyter-widgets/controls",
      "model_module_version": "1.5.0",
      "model_name": "FloatTextModel",
      "state": {
       "description": "EDUC:",
       "layout": "IPY_MODEL_9956560ed5ec480590edafa6b866b5df",
       "step": null,
       "style": "IPY_MODEL_62041503bc8b49039cc53bc300b92f4c"
      }
     },
     "441819a860964dcd8266d6abc01b9ae7": {
      "model_module": "@jupyter-widgets/controls",
      "model_module_version": "1.5.0",
      "model_name": "FloatTextModel",
      "state": {
       "description": "eTIV:",
       "layout": "IPY_MODEL_505434573e3148e08abb594c0c48926e",
       "step": null,
       "style": "IPY_MODEL_9cc7519ef12b49c198db4c7fe6f7ccaf"
      }
     },
     "447a013a6b894bb09efbfa8775544f86": {
      "model_module": "@jupyter-widgets/base",
      "model_module_version": "1.2.0",
      "model_name": "LayoutModel",
      "state": {}
     },
     "48772150d0c64a13be283b7d82f799ef": {
      "model_module": "@jupyter-widgets/controls",
      "model_module_version": "1.5.0",
      "model_name": "ButtonModel",
      "state": {
       "description": "Sumbit",
       "layout": "IPY_MODEL_af17d3ca72174d18be1e9fabd73d1c69",
       "style": "IPY_MODEL_d1dd7dae887e4225ab23ea037d2fdea5"
      }
     },
     "48d18e2531974fedb35ecfb3440160f2": {
      "model_module": "@jupyter-widgets/base",
      "model_module_version": "1.2.0",
      "model_name": "LayoutModel",
      "state": {}
     },
     "48eded5767e045e4970df20e30d55183": {
      "model_module": "@jupyter-widgets/base",
      "model_module_version": "1.2.0",
      "model_name": "LayoutModel",
      "state": {}
     },
     "4998b4615cac4235bb34732af0c355d7": {
      "model_module": "@jupyter-widgets/output",
      "model_module_version": "1.0.0",
      "model_name": "OutputModel",
      "state": {
       "layout": "IPY_MODEL_73e8e236130745df855f486b86fc9cde"
      }
     },
     "4aaa6205ffec45c5aa6efb9c711e5764": {
      "model_module": "@jupyter-widgets/base",
      "model_module_version": "1.2.0",
      "model_name": "LayoutModel",
      "state": {}
     },
     "4bb05c1d691448598253dff7605eebc3": {
      "model_module": "@jupyter-widgets/controls",
      "model_module_version": "1.5.0",
      "model_name": "FloatTextModel",
      "state": {
       "description": "AGE:",
       "layout": "IPY_MODEL_6ef9de9bc23442d0ae002dc619d62b8c",
       "step": null,
       "style": "IPY_MODEL_90f071d48a6e4d18b0e50adb6c9937b8"
      }
     },
     "4c0a049d9011471b9b34c86519dc6420": {
      "model_module": "@jupyter-widgets/base",
      "model_module_version": "1.2.0",
      "model_name": "LayoutModel",
      "state": {}
     },
     "4d39be05f4604067b0f0a58868ee9d4c": {
      "model_module": "@jupyter-widgets/controls",
      "model_module_version": "1.5.0",
      "model_name": "FloatTextModel",
      "state": {
       "description": "SES:",
       "layout": "IPY_MODEL_0ecb2170e71f48b2b44f37ff358f5929",
       "step": null,
       "style": "IPY_MODEL_7ceb5f0ec8ca44808d823403b7e2ed4a"
      }
     },
     "4d9c43367d5b45bfbe164c4c15b73be4": {
      "model_module": "@jupyter-widgets/output",
      "model_module_version": "1.0.0",
      "model_name": "OutputModel",
      "state": {
       "layout": "IPY_MODEL_d345f4558e484e3cb747954e9ee55af6"
      }
     },
     "4dffad60de7f47dbaba9b776f1c81ee2": {
      "model_module": "@jupyter-widgets/controls",
      "model_module_version": "1.5.0",
      "model_name": "FloatTextModel",
      "state": {
       "description": "nWBV:",
       "layout": "IPY_MODEL_4c0a049d9011471b9b34c86519dc6420",
       "step": null,
       "style": "IPY_MODEL_5af1fce7d44f49beaacd618026722986"
      }
     },
     "4f2c2f071f1a4fdab13e5a7a420b3c9b": {
      "model_module": "@jupyter-widgets/controls",
      "model_module_version": "1.5.0",
      "model_name": "FloatTextModel",
      "state": {
       "description": "SES:",
       "layout": "IPY_MODEL_7799d725e8234dd1b1ff48aad8175b42",
       "step": null,
       "style": "IPY_MODEL_508c12d80bf040feb8e095bd64481bf5"
      }
     },
     "502a8290600946948c1f150bc79be6fb": {
      "model_module": "@jupyter-widgets/controls",
      "model_module_version": "1.5.0",
      "model_name": "TextModel",
      "state": {
       "description": "NAME:",
       "layout": "IPY_MODEL_78015973e74f49b98f4c0e1f0ee5874f",
       "placeholder": "NAME",
       "style": "IPY_MODEL_f0e6a5b2567e474ebdb274d8d43b5159"
      }
     },
     "505434573e3148e08abb594c0c48926e": {
      "model_module": "@jupyter-widgets/base",
      "model_module_version": "1.2.0",
      "model_name": "LayoutModel",
      "state": {}
     },
     "508c12d80bf040feb8e095bd64481bf5": {
      "model_module": "@jupyter-widgets/controls",
      "model_module_version": "1.5.0",
      "model_name": "DescriptionStyleModel",
      "state": {
       "description_width": ""
      }
     },
     "51b92d7442d84e9b9751e110c4bca917": {
      "model_module": "@jupyter-widgets/controls",
      "model_module_version": "1.5.0",
      "model_name": "FloatTextModel",
      "state": {
       "description": "SES:",
       "layout": "IPY_MODEL_673265d85f344679a46dd52e5cac2389",
       "step": null,
       "style": "IPY_MODEL_7f79de9168c440029aa86357cd08b5a5"
      }
     },
     "52b25fc617264dd8b13737b53d39fe6c": {
      "model_module": "@jupyter-widgets/controls",
      "model_module_version": "1.5.0",
      "model_name": "DescriptionStyleModel",
      "state": {
       "description_width": ""
      }
     },
     "53ba90d9457f421b9bdce2472a86653f": {
      "model_module": "@jupyter-widgets/output",
      "model_module_version": "1.0.0",
      "model_name": "OutputModel",
      "state": {
       "layout": "IPY_MODEL_7b56f8a4fe1c4b96be812b09392440df"
      }
     },
     "551f1c460d3242e48d5ec3eb0c1a5d60": {
      "model_module": "@jupyter-widgets/base",
      "model_module_version": "1.2.0",
      "model_name": "LayoutModel",
      "state": {}
     },
     "5531cfc89a034d9d8b8c5ff187861a82": {
      "model_module": "@jupyter-widgets/base",
      "model_module_version": "1.2.0",
      "model_name": "LayoutModel",
      "state": {}
     },
     "556584acc4d846a1bde2f07cc9763c7f": {
      "model_module": "@jupyter-widgets/controls",
      "model_module_version": "1.5.0",
      "model_name": "RadioButtonsModel",
      "state": {
       "_options_labels": [
        "MALE",
        "FEMALE"
       ],
       "description": "GENDER:",
       "index": 0,
       "layout": "IPY_MODEL_551f1c460d3242e48d5ec3eb0c1a5d60",
       "style": "IPY_MODEL_dfff0a4789024c7b98254979d613707c"
      }
     },
     "57779c9092eb4b50b8491c8392c8f72c": {
      "model_module": "@jupyter-widgets/controls",
      "model_module_version": "1.5.0",
      "model_name": "RadioButtonsModel",
      "state": {
       "_options_labels": [
        "MALE",
        "FEMALE"
       ],
       "description": "GENDER:",
       "index": 0,
       "layout": "IPY_MODEL_2e50aae68f244521afa12f242ef20b47",
       "style": "IPY_MODEL_eeda1d6e56d5404c8aa5a2eb96d4426f"
      }
     },
     "57c8d9d6b0694eef84a605be02e184a7": {
      "model_module": "@jupyter-widgets/controls",
      "model_module_version": "1.5.0",
      "model_name": "ButtonModel",
      "state": {
       "description": "Sumbit",
       "layout": "IPY_MODEL_807741dd3991423a860c82994de505bf",
       "style": "IPY_MODEL_26b496001baa49018ce03b31910c51d2"
      }
     },
     "5a0e0924b82c4232bdf51a1fbc7b853f": {
      "model_module": "@jupyter-widgets/controls",
      "model_module_version": "1.5.0",
      "model_name": "TextModel",
      "state": {
       "description": "NAME:",
       "layout": "IPY_MODEL_b9e533f6381d4454941132badc506408",
       "placeholder": "NAME",
       "style": "IPY_MODEL_b2f2b4cfc71d4cf7a2b99e4b1b55b26d"
      }
     },
     "5af1fce7d44f49beaacd618026722986": {
      "model_module": "@jupyter-widgets/controls",
      "model_module_version": "1.5.0",
      "model_name": "DescriptionStyleModel",
      "state": {
       "description_width": ""
      }
     },
     "5af21c80c46b4826b0239b65e5fdff73": {
      "model_module": "@jupyter-widgets/controls",
      "model_module_version": "1.5.0",
      "model_name": "ButtonStyleModel",
      "state": {
       "button_color": "coral"
      }
     },
     "5af47d792a5144f6a261f0c8c3c744af": {
      "model_module": "@jupyter-widgets/base",
      "model_module_version": "1.2.0",
      "model_name": "LayoutModel",
      "state": {}
     },
     "5b0e657ffe5d4aed82ba59ab4eb33ca5": {
      "model_module": "@jupyter-widgets/base",
      "model_module_version": "1.2.0",
      "model_name": "LayoutModel",
      "state": {}
     },
     "5bd5e639e6e74a26810329e7f81d5c62": {
      "model_module": "@jupyter-widgets/controls",
      "model_module_version": "1.5.0",
      "model_name": "DescriptionStyleModel",
      "state": {
       "description_width": ""
      }
     },
     "5ce1f6c6e3054b8a9a70873aa140320f": {
      "model_module": "@jupyter-widgets/base",
      "model_module_version": "1.2.0",
      "model_name": "LayoutModel",
      "state": {}
     },
     "5de538d803c24fb9a59ea5f3b06b3893": {
      "model_module": "@jupyter-widgets/base",
      "model_module_version": "1.2.0",
      "model_name": "LayoutModel",
      "state": {}
     },
     "5ffd9567308b410fb1599029d028e8c1": {
      "model_module": "@jupyter-widgets/controls",
      "model_module_version": "1.5.0",
      "model_name": "FloatTextModel",
      "state": {
       "description": "eTIV:",
       "layout": "IPY_MODEL_d9d1d209413b4e2293a99a9638a295ed",
       "step": null,
       "style": "IPY_MODEL_b9bee54343d84c4b922c226f5ba67b5a"
      }
     },
     "614485cc2bfd4ec384fdcaf080638ce1": {
      "model_module": "@jupyter-widgets/controls",
      "model_module_version": "1.5.0",
      "model_name": "FloatTextModel",
      "state": {
       "description": "AGE:",
       "layout": "IPY_MODEL_01a725a9cdc248cc86f61beff3ac0b78",
       "step": null,
       "style": "IPY_MODEL_5bd5e639e6e74a26810329e7f81d5c62"
      }
     },
     "61f58dca4f9442419622738f6b69d732": {
      "model_module": "@jupyter-widgets/base",
      "model_module_version": "1.2.0",
      "model_name": "LayoutModel",
      "state": {}
     },
     "62041503bc8b49039cc53bc300b92f4c": {
      "model_module": "@jupyter-widgets/controls",
      "model_module_version": "1.5.0",
      "model_name": "DescriptionStyleModel",
      "state": {
       "description_width": ""
      }
     },
     "6513b7059242416ca58361b3355279cc": {
      "model_module": "@jupyter-widgets/base",
      "model_module_version": "1.2.0",
      "model_name": "LayoutModel",
      "state": {}
     },
     "66b280f742d34a40af0e63c2ccbcc681": {
      "model_module": "@jupyter-widgets/controls",
      "model_module_version": "1.5.0",
      "model_name": "FloatTextModel",
      "state": {
       "description": "ASF:",
       "layout": "IPY_MODEL_447a013a6b894bb09efbfa8775544f86",
       "step": null,
       "style": "IPY_MODEL_f6bf19e2b62c4e049b7447a354ba8c9c"
      }
     },
     "673265d85f344679a46dd52e5cac2389": {
      "model_module": "@jupyter-widgets/base",
      "model_module_version": "1.2.0",
      "model_name": "LayoutModel",
      "state": {}
     },
     "68f3b55492f04758bbd2841975424d08": {
      "model_module": "@jupyter-widgets/controls",
      "model_module_version": "1.5.0",
      "model_name": "FloatTextModel",
      "state": {
       "description": "eTIV:",
       "layout": "IPY_MODEL_bdca306c7b4443c79b3ad5d8f1954a0f",
       "step": null,
       "style": "IPY_MODEL_52b25fc617264dd8b13737b53d39fe6c"
      }
     },
     "698fd0cd63ef4fc4a76716f25f08d37d": {
      "model_module": "@jupyter-widgets/controls",
      "model_module_version": "1.5.0",
      "model_name": "FloatTextModel",
      "state": {
       "description": "EDUC:",
       "layout": "IPY_MODEL_6513b7059242416ca58361b3355279cc",
       "step": null,
       "style": "IPY_MODEL_aef928ab3cb8461e86a9cf644bb521f4"
      }
     },
     "6b08312c76ed4993acf2c0158cb3470a": {
      "model_module": "@jupyter-widgets/controls",
      "model_module_version": "1.5.0",
      "model_name": "DescriptionStyleModel",
      "state": {
       "description_width": ""
      }
     },
     "6ef9de9bc23442d0ae002dc619d62b8c": {
      "model_module": "@jupyter-widgets/base",
      "model_module_version": "1.2.0",
      "model_name": "LayoutModel",
      "state": {}
     },
     "73e8e236130745df855f486b86fc9cde": {
      "model_module": "@jupyter-widgets/base",
      "model_module_version": "1.2.0",
      "model_name": "LayoutModel",
      "state": {
       "border": "10px solid black"
      }
     },
     "73ef9275d7e34ed9b2880d93b34f4d6d": {
      "model_module": "@jupyter-widgets/controls",
      "model_module_version": "1.5.0",
      "model_name": "DescriptionStyleModel",
      "state": {
       "description_width": ""
      }
     },
     "761273833ea544c39a872bf0a2adf6da": {
      "model_module": "@jupyter-widgets/controls",
      "model_module_version": "1.5.0",
      "model_name": "FloatTextModel",
      "state": {
       "description": "ASF:",
       "layout": "IPY_MODEL_48eded5767e045e4970df20e30d55183",
       "step": null,
       "style": "IPY_MODEL_2e46edbc7a234681a8133e9dcd1a75bd"
      }
     },
     "7706c97973e148a4b9a27fc19177bd9b": {
      "model_module": "@jupyter-widgets/controls",
      "model_module_version": "1.5.0",
      "model_name": "DescriptionStyleModel",
      "state": {
       "description_width": ""
      }
     },
     "7799d725e8234dd1b1ff48aad8175b42": {
      "model_module": "@jupyter-widgets/base",
      "model_module_version": "1.2.0",
      "model_name": "LayoutModel",
      "state": {}
     },
     "78015973e74f49b98f4c0e1f0ee5874f": {
      "model_module": "@jupyter-widgets/base",
      "model_module_version": "1.2.0",
      "model_name": "LayoutModel",
      "state": {}
     },
     "78b505fd99c842eea6f83130d19b15b6": {
      "model_module": "@jupyter-widgets/base",
      "model_module_version": "1.2.0",
      "model_name": "LayoutModel",
      "state": {
       "border": "10px solid black"
      }
     },
     "78c8bb3ddd314b4398b8339dff6439c9": {
      "model_module": "@jupyter-widgets/controls",
      "model_module_version": "1.5.0",
      "model_name": "TextModel",
      "state": {
       "description": "NAME:",
       "layout": "IPY_MODEL_955ac33f697e426d80dea3a117528938",
       "placeholder": "NAME",
       "style": "IPY_MODEL_bf8e3e78bc9c420c9b268e1d922ad5ed"
      }
     },
     "7a2ecdddd7bf47e6aa4d571ceceefd3d": {
      "model_module": "@jupyter-widgets/controls",
      "model_module_version": "1.5.0",
      "model_name": "DescriptionStyleModel",
      "state": {
       "description_width": ""
      }
     },
     "7b56f8a4fe1c4b96be812b09392440df": {
      "model_module": "@jupyter-widgets/base",
      "model_module_version": "1.2.0",
      "model_name": "LayoutModel",
      "state": {
       "border": "10px solid black"
      }
     },
     "7b6df642dd6549f7b5633802d0fac096": {
      "model_module": "@jupyter-widgets/base",
      "model_module_version": "1.2.0",
      "model_name": "LayoutModel",
      "state": {
       "height": "40px",
       "width": "20%"
      }
     },
     "7bac8615f5ee473482b338b66ab69739": {
      "model_module": "@jupyter-widgets/controls",
      "model_module_version": "1.5.0",
      "model_name": "FloatTextModel",
      "state": {
       "description": "EDUC:",
       "layout": "IPY_MODEL_becdf36cb7f14907bb99bf261bb6cfdd",
       "step": null,
       "style": "IPY_MODEL_7706c97973e148a4b9a27fc19177bd9b"
      }
     },
     "7c410a8b8c73435199bf69bcfe030db4": {
      "model_module": "@jupyter-widgets/controls",
      "model_module_version": "1.5.0",
      "model_name": "DescriptionStyleModel",
      "state": {
       "description_width": ""
      }
     },
     "7ceb5f0ec8ca44808d823403b7e2ed4a": {
      "model_module": "@jupyter-widgets/controls",
      "model_module_version": "1.5.0",
      "model_name": "DescriptionStyleModel",
      "state": {
       "description_width": ""
      }
     },
     "7ed3fbac85ed486f91350883addabb9a": {
      "model_module": "@jupyter-widgets/output",
      "model_module_version": "1.0.0",
      "model_name": "OutputModel",
      "state": {
       "layout": "IPY_MODEL_78b505fd99c842eea6f83130d19b15b6"
      }
     },
     "7f79de9168c440029aa86357cd08b5a5": {
      "model_module": "@jupyter-widgets/controls",
      "model_module_version": "1.5.0",
      "model_name": "DescriptionStyleModel",
      "state": {
       "description_width": ""
      }
     },
     "807741dd3991423a860c82994de505bf": {
      "model_module": "@jupyter-widgets/base",
      "model_module_version": "1.2.0",
      "model_name": "LayoutModel",
      "state": {
       "height": "40px",
       "width": "20%"
      }
     },
     "809a54350347457f8a942d06f77cd453": {
      "model_module": "@jupyter-widgets/controls",
      "model_module_version": "1.5.0",
      "model_name": "FloatTextModel",
      "state": {
       "description": "SES:",
       "layout": "IPY_MODEL_3ccda8b2ef7f4d1bb213f202d4c33fc7",
       "step": null,
       "style": "IPY_MODEL_937049098c984766a63eb872a2e8358b"
      }
     },
     "8228c38164f24bc18e80eaa98fc76cd7": {
      "model_module": "@jupyter-widgets/controls",
      "model_module_version": "1.5.0",
      "model_name": "DescriptionStyleModel",
      "state": {
       "description_width": ""
      }
     },
     "844dcc8d5c834e94a5930fb493404bb5": {
      "model_module": "@jupyter-widgets/controls",
      "model_module_version": "1.5.0",
      "model_name": "DescriptionStyleModel",
      "state": {
       "description_width": ""
      }
     },
     "847fc09fc5aa40e6abaf9e4a7edbd79b": {
      "model_module": "@jupyter-widgets/base",
      "model_module_version": "1.2.0",
      "model_name": "LayoutModel",
      "state": {
       "height": "40px",
       "width": "20%"
      }
     },
     "85af9aedd9554545a836332f2e96dee2": {
      "model_module": "@jupyter-widgets/controls",
      "model_module_version": "1.5.0",
      "model_name": "FloatTextModel",
      "state": {
       "description": "SES:",
       "layout": "IPY_MODEL_3b765871edb34d7a9bb2160ab1ade92f",
       "step": null,
       "style": "IPY_MODEL_b534a3526833493eaddb6663408d3a7d"
      }
     },
     "87b12e8fed1b4750a99be822eaafdbcb": {
      "model_module": "@jupyter-widgets/controls",
      "model_module_version": "1.5.0",
      "model_name": "DescriptionStyleModel",
      "state": {
       "description_width": ""
      }
     },
     "87e97b17527a434c943698b82de32aab": {
      "model_module": "@jupyter-widgets/controls",
      "model_module_version": "1.5.0",
      "model_name": "DescriptionStyleModel",
      "state": {
       "description_width": ""
      }
     },
     "8bebda18812d41f2bc47459c7b0418c1": {
      "model_module": "@jupyter-widgets/controls",
      "model_module_version": "1.5.0",
      "model_name": "FloatTextModel",
      "state": {
       "description": "EDUC:",
       "layout": "IPY_MODEL_5ce1f6c6e3054b8a9a70873aa140320f",
       "step": null,
       "style": "IPY_MODEL_87b12e8fed1b4750a99be822eaafdbcb"
      }
     },
     "8f2e1264697b4dad8764e748adddf959": {
      "model_module": "@jupyter-widgets/controls",
      "model_module_version": "1.5.0",
      "model_name": "DescriptionStyleModel",
      "state": {
       "description_width": ""
      }
     },
     "9038c4937a09467da07e96a444070661": {
      "model_module": "@jupyter-widgets/controls",
      "model_module_version": "1.5.0",
      "model_name": "DescriptionStyleModel",
      "state": {
       "description_width": ""
      }
     },
     "90dee86d27f64b649f4fbaa782b3fa1f": {
      "model_module": "@jupyter-widgets/controls",
      "model_module_version": "1.5.0",
      "model_name": "FloatTextModel",
      "state": {
       "description": "AGE:",
       "layout": "IPY_MODEL_dd3b77907e914334826e98a390da32e0",
       "step": null,
       "style": "IPY_MODEL_c1a9456abdb14b1f82a38aa218aca784"
      }
     },
     "90f071d48a6e4d18b0e50adb6c9937b8": {
      "model_module": "@jupyter-widgets/controls",
      "model_module_version": "1.5.0",
      "model_name": "DescriptionStyleModel",
      "state": {
       "description_width": ""
      }
     },
     "91cb125017144a70add9a0180145ab32": {
      "model_module": "@jupyter-widgets/controls",
      "model_module_version": "1.5.0",
      "model_name": "FloatTextModel",
      "state": {
       "description": "EDUC:",
       "layout": "IPY_MODEL_1761e996b6334d20977c89d856c95b70",
       "step": null,
       "style": "IPY_MODEL_d1d38731a28943648ab4537072083e8a"
      }
     },
     "92ca4a948b8946e39bf3e066d3c9f5b1": {
      "model_module": "@jupyter-widgets/controls",
      "model_module_version": "1.5.0",
      "model_name": "FloatTextModel",
      "state": {
       "description": "SES:",
       "layout": "IPY_MODEL_f40d55296693487394b3a4de7df1d054",
       "step": null,
       "style": "IPY_MODEL_f948129bbb2a456f810cb2313527f29a"
      }
     },
     "937049098c984766a63eb872a2e8358b": {
      "model_module": "@jupyter-widgets/controls",
      "model_module_version": "1.5.0",
      "model_name": "DescriptionStyleModel",
      "state": {
       "description_width": ""
      }
     },
     "955ac33f697e426d80dea3a117528938": {
      "model_module": "@jupyter-widgets/base",
      "model_module_version": "1.2.0",
      "model_name": "LayoutModel",
      "state": {}
     },
     "99355a818708433b9936574f0ea35238": {
      "model_module": "@jupyter-widgets/base",
      "model_module_version": "1.2.0",
      "model_name": "LayoutModel",
      "state": {}
     },
     "9956560ed5ec480590edafa6b866b5df": {
      "model_module": "@jupyter-widgets/base",
      "model_module_version": "1.2.0",
      "model_name": "LayoutModel",
      "state": {}
     },
     "9a1ccb0526f04e1cb9be967d4ff70bbb": {
      "model_module": "@jupyter-widgets/controls",
      "model_module_version": "1.5.0",
      "model_name": "RadioButtonsModel",
      "state": {
       "_options_labels": [
        "MALE",
        "FEMALE"
       ],
       "description": "GENDER:",
       "index": 0,
       "layout": "IPY_MODEL_006487fa0948452fae91f8315a30b928",
       "style": "IPY_MODEL_1782c782318d4ea3a0c44c25d8ed855f"
      }
     },
     "9cc7519ef12b49c198db4c7fe6f7ccaf": {
      "model_module": "@jupyter-widgets/controls",
      "model_module_version": "1.5.0",
      "model_name": "DescriptionStyleModel",
      "state": {
       "description_width": ""
      }
     },
     "9cc864173fc642dd93fe4c668983776a": {
      "model_module": "@jupyter-widgets/base",
      "model_module_version": "1.2.0",
      "model_name": "LayoutModel",
      "state": {}
     },
     "9f4f39e5c0d540619b0fc4281c49e4a7": {
      "model_module": "@jupyter-widgets/controls",
      "model_module_version": "1.5.0",
      "model_name": "FloatTextModel",
      "state": {
       "description": "ASF:",
       "layout": "IPY_MODEL_4aaa6205ffec45c5aa6efb9c711e5764",
       "step": null,
       "style": "IPY_MODEL_7a2ecdddd7bf47e6aa4d571ceceefd3d"
      }
     },
     "9f4fd19585f8499ba176ddd08ce7c7bd": {
      "model_module": "@jupyter-widgets/base",
      "model_module_version": "1.2.0",
      "model_name": "LayoutModel",
      "state": {
       "border": "10px solid black"
      }
     },
     "9f90fb36106c49f48db23796ad9911a6": {
      "model_module": "@jupyter-widgets/controls",
      "model_module_version": "1.5.0",
      "model_name": "FloatTextModel",
      "state": {
       "description": "eTIV:",
       "layout": "IPY_MODEL_ede49b425ea049849ee5fe4b9d5c4634",
       "step": null,
       "style": "IPY_MODEL_fa758e59bcf1426e83dd0e11480c541b"
      }
     },
     "9fea194201974c2c833afa8c0bef8b19": {
      "model_module": "@jupyter-widgets/controls",
      "model_module_version": "1.5.0",
      "model_name": "DescriptionStyleModel",
      "state": {
       "description_width": ""
      }
     },
     "a0787d19098f4d76a88a7e4dd2562f43": {
      "model_module": "@jupyter-widgets/controls",
      "model_module_version": "1.5.0",
      "model_name": "DescriptionStyleModel",
      "state": {
       "description_width": ""
      }
     },
     "a2602a5555df4bc58dc5a6d04e7f056a": {
      "model_module": "@jupyter-widgets/controls",
      "model_module_version": "1.5.0",
      "model_name": "DescriptionStyleModel",
      "state": {
       "description_width": ""
      }
     },
     "a52c0fd8d99a463293fa78c1b60dafb6": {
      "model_module": "@jupyter-widgets/base",
      "model_module_version": "1.2.0",
      "model_name": "LayoutModel",
      "state": {}
     },
     "a6ba313870384a69a8633de3f581d664": {
      "model_module": "@jupyter-widgets/base",
      "model_module_version": "1.2.0",
      "model_name": "LayoutModel",
      "state": {}
     },
     "a98974d91e624a92bfff059771075c39": {
      "model_module": "@jupyter-widgets/controls",
      "model_module_version": "1.5.0",
      "model_name": "DescriptionStyleModel",
      "state": {
       "description_width": ""
      }
     },
     "aa3788211d4241b99bd19341e24dd105": {
      "model_module": "@jupyter-widgets/controls",
      "model_module_version": "1.5.0",
      "model_name": "FloatTextModel",
      "state": {
       "description": "MMSE:",
       "layout": "IPY_MODEL_17a9ca89da734585be1d02cdadaf0e3d",
       "step": null,
       "style": "IPY_MODEL_1b46b64defd54edeb9e3e6ea0866ed05"
      }
     },
     "abe3fe0733374c64a7e23267ff6a958d": {
      "model_module": "@jupyter-widgets/controls",
      "model_module_version": "1.5.0",
      "model_name": "FloatTextModel",
      "state": {
       "description": "AGE:",
       "layout": "IPY_MODEL_259707a0894e418ebe3f12217bd438af",
       "step": null,
       "style": "IPY_MODEL_3ec83587955e4c0ca13abc74566656a6"
      }
     },
     "ac8dc462e28346e6b1db48c9d9a3c30d": {
      "model_module": "@jupyter-widgets/controls",
      "model_module_version": "1.5.0",
      "model_name": "DescriptionStyleModel",
      "state": {
       "description_width": ""
      }
     },
     "ad4cd096326f4cd1aaa89ad5244989e4": {
      "model_module": "@jupyter-widgets/controls",
      "model_module_version": "1.5.0",
      "model_name": "DescriptionStyleModel",
      "state": {
       "description_width": ""
      }
     },
     "aef928ab3cb8461e86a9cf644bb521f4": {
      "model_module": "@jupyter-widgets/controls",
      "model_module_version": "1.5.0",
      "model_name": "DescriptionStyleModel",
      "state": {
       "description_width": ""
      }
     },
     "af167f0290ec435a877e600e380d1398": {
      "model_module": "@jupyter-widgets/output",
      "model_module_version": "1.0.0",
      "model_name": "OutputModel",
      "state": {
       "layout": "IPY_MODEL_d1f79f5afaa14e20badbe5c7a669f27e"
      }
     },
     "af17d3ca72174d18be1e9fabd73d1c69": {
      "model_module": "@jupyter-widgets/base",
      "model_module_version": "1.2.0",
      "model_name": "LayoutModel",
      "state": {
       "height": "40px",
       "width": "20%"
      }
     },
     "b06a9df48b154bf7b5eab8997a44ec5a": {
      "model_module": "@jupyter-widgets/base",
      "model_module_version": "1.2.0",
      "model_name": "LayoutModel",
      "state": {}
     },
     "b1970ce9a0ac4a11ab48520c79cfb740": {
      "model_module": "@jupyter-widgets/controls",
      "model_module_version": "1.5.0",
      "model_name": "FloatTextModel",
      "state": {
       "description": "MMSE:",
       "layout": "IPY_MODEL_e7ea9274e4444b34a14a7e033251d2ae",
       "step": null,
       "style": "IPY_MODEL_9038c4937a09467da07e96a444070661"
      }
     },
     "b2f2b4cfc71d4cf7a2b99e4b1b55b26d": {
      "model_module": "@jupyter-widgets/controls",
      "model_module_version": "1.5.0",
      "model_name": "DescriptionStyleModel",
      "state": {
       "description_width": ""
      }
     },
     "b534a3526833493eaddb6663408d3a7d": {
      "model_module": "@jupyter-widgets/controls",
      "model_module_version": "1.5.0",
      "model_name": "DescriptionStyleModel",
      "state": {
       "description_width": ""
      }
     },
     "b610d62728d9466894f75e0a7962734f": {
      "model_module": "@jupyter-widgets/controls",
      "model_module_version": "1.5.0",
      "model_name": "ButtonStyleModel",
      "state": {
       "button_color": "coral"
      }
     },
     "b8153637c54f457dbee3c05004a83917": {
      "model_module": "@jupyter-widgets/controls",
      "model_module_version": "1.5.0",
      "model_name": "TextModel",
      "state": {
       "description": "NAME:",
       "layout": "IPY_MODEL_48d18e2531974fedb35ecfb3440160f2",
       "placeholder": "NAME",
       "style": "IPY_MODEL_3c3f058f732f43ff80960a4dedbb0c4a"
      }
     },
     "b87b6623c3bd429cb0f3ad2565c7e275": {
      "model_module": "@jupyter-widgets/base",
      "model_module_version": "1.2.0",
      "model_name": "LayoutModel",
      "state": {
       "height": "40px",
       "width": "20%"
      }
     },
     "b90e8627fdf94131bb9550f5dcf1d383": {
      "model_module": "@jupyter-widgets/base",
      "model_module_version": "1.2.0",
      "model_name": "LayoutModel",
      "state": {}
     },
     "b9bee54343d84c4b922c226f5ba67b5a": {
      "model_module": "@jupyter-widgets/controls",
      "model_module_version": "1.5.0",
      "model_name": "DescriptionStyleModel",
      "state": {
       "description_width": ""
      }
     },
     "b9e533f6381d4454941132badc506408": {
      "model_module": "@jupyter-widgets/base",
      "model_module_version": "1.2.0",
      "model_name": "LayoutModel",
      "state": {}
     },
     "bc59165443e84684b76880fbaabf69fd": {
      "model_module": "@jupyter-widgets/controls",
      "model_module_version": "1.5.0",
      "model_name": "FloatTextModel",
      "state": {
       "description": "EDUC:",
       "layout": "IPY_MODEL_24a24b2666b941f180a13303d1056764",
       "step": null,
       "style": "IPY_MODEL_87e97b17527a434c943698b82de32aab"
      }
     },
     "bd750fabe5674bf787748b8471f45ccc": {
      "model_module": "@jupyter-widgets/base",
      "model_module_version": "1.2.0",
      "model_name": "LayoutModel",
      "state": {}
     },
     "bdca306c7b4443c79b3ad5d8f1954a0f": {
      "model_module": "@jupyter-widgets/base",
      "model_module_version": "1.2.0",
      "model_name": "LayoutModel",
      "state": {}
     },
     "be88e0ddcee44677b91374c2e9472737": {
      "model_module": "@jupyter-widgets/controls",
      "model_module_version": "1.5.0",
      "model_name": "RadioButtonsModel",
      "state": {
       "_options_labels": [
        "MALE",
        "FEMALE"
       ],
       "description": "GENDER:",
       "index": 0,
       "layout": "IPY_MODEL_5531cfc89a034d9d8b8c5ff187861a82",
       "style": "IPY_MODEL_22a84ae3b7ca4fb2879ae45acc235673"
      }
     },
     "becdf36cb7f14907bb99bf261bb6cfdd": {
      "model_module": "@jupyter-widgets/base",
      "model_module_version": "1.2.0",
      "model_name": "LayoutModel",
      "state": {}
     },
     "bf8e3e78bc9c420c9b268e1d922ad5ed": {
      "model_module": "@jupyter-widgets/controls",
      "model_module_version": "1.5.0",
      "model_name": "DescriptionStyleModel",
      "state": {
       "description_width": ""
      }
     },
     "c0005ba1102f41e29ae4b95afaad8598": {
      "model_module": "@jupyter-widgets/controls",
      "model_module_version": "1.5.0",
      "model_name": "ButtonStyleModel",
      "state": {
       "button_color": "coral"
      }
     },
     "c064bb59f0a944c1a954ee36068a6333": {
      "model_module": "@jupyter-widgets/base",
      "model_module_version": "1.2.0",
      "model_name": "LayoutModel",
      "state": {}
     },
     "c1572c8c6fc6497b8bba6e672084aaa7": {
      "model_module": "@jupyter-widgets/base",
      "model_module_version": "1.2.0",
      "model_name": "LayoutModel",
      "state": {}
     },
     "c1a9456abdb14b1f82a38aa218aca784": {
      "model_module": "@jupyter-widgets/controls",
      "model_module_version": "1.5.0",
      "model_name": "DescriptionStyleModel",
      "state": {
       "description_width": ""
      }
     },
     "c93681c6b9ba4cf1abb72551fb5771fa": {
      "model_module": "@jupyter-widgets/base",
      "model_module_version": "1.2.0",
      "model_name": "LayoutModel",
      "state": {}
     },
     "ca97f708e13d481bbf8957ad75c96f18": {
      "model_module": "@jupyter-widgets/controls",
      "model_module_version": "1.5.0",
      "model_name": "FloatTextModel",
      "state": {
       "description": "nWBV:",
       "layout": "IPY_MODEL_d9d765f2b2264147aa728c6512b070df",
       "step": null,
       "style": "IPY_MODEL_ad4cd096326f4cd1aaa89ad5244989e4"
      }
     },
     "cab76be489894e2eb35e5a683f89d713": {
      "model_module": "@jupyter-widgets/controls",
      "model_module_version": "1.5.0",
      "model_name": "DescriptionStyleModel",
      "state": {
       "description_width": ""
      }
     },
     "cae91fb853214e0b93681113f3fc0d65": {
      "model_module": "@jupyter-widgets/controls",
      "model_module_version": "1.5.0",
      "model_name": "TextModel",
      "state": {
       "description": "NAME:",
       "layout": "IPY_MODEL_e139bcfeebc3490b9056d8d2ed31d957",
       "placeholder": "NAME",
       "style": "IPY_MODEL_844dcc8d5c834e94a5930fb493404bb5"
      }
     },
     "cfe1e368d05940dda90149d443ed5073": {
      "model_module": "@jupyter-widgets/controls",
      "model_module_version": "1.5.0",
      "model_name": "FloatTextModel",
      "state": {
       "description": "eTIV:",
       "layout": "IPY_MODEL_ee1524a0cb5b4067b7771f294048dcfd",
       "step": null,
       "style": "IPY_MODEL_a2602a5555df4bc58dc5a6d04e7f056a"
      }
     },
     "d0d626783ca74bbb9f30ca12e0d3ed35": {
      "model_module": "@jupyter-widgets/base",
      "model_module_version": "1.2.0",
      "model_name": "LayoutModel",
      "state": {
       "height": "40px",
       "width": "20%"
      }
     },
     "d1d38731a28943648ab4537072083e8a": {
      "model_module": "@jupyter-widgets/controls",
      "model_module_version": "1.5.0",
      "model_name": "DescriptionStyleModel",
      "state": {
       "description_width": ""
      }
     },
     "d1dd7dae887e4225ab23ea037d2fdea5": {
      "model_module": "@jupyter-widgets/controls",
      "model_module_version": "1.5.0",
      "model_name": "ButtonStyleModel",
      "state": {
       "button_color": "coral"
      }
     },
     "d1f79f5afaa14e20badbe5c7a669f27e": {
      "model_module": "@jupyter-widgets/base",
      "model_module_version": "1.2.0",
      "model_name": "LayoutModel",
      "state": {
       "border": "10px solid black"
      }
     },
     "d2b0ca56e7cf4e96ae5dfba6a84e73bf": {
      "model_module": "@jupyter-widgets/controls",
      "model_module_version": "1.5.0",
      "model_name": "DescriptionStyleModel",
      "state": {
       "description_width": ""
      }
     },
     "d345f4558e484e3cb747954e9ee55af6": {
      "model_module": "@jupyter-widgets/base",
      "model_module_version": "1.2.0",
      "model_name": "LayoutModel",
      "state": {
       "border": "10px solid black"
      }
     },
     "d4a822b851264780b4576f6f692fb8d2": {
      "model_module": "@jupyter-widgets/base",
      "model_module_version": "1.2.0",
      "model_name": "LayoutModel",
      "state": {
       "border": "10px solid black"
      }
     },
     "d4d1fc6e5d814f44a2abff13e81b8b7b": {
      "model_module": "@jupyter-widgets/controls",
      "model_module_version": "1.5.0",
      "model_name": "TextModel",
      "state": {
       "description": "NAME:",
       "layout": "IPY_MODEL_9cc864173fc642dd93fe4c668983776a",
       "placeholder": "NAME",
       "style": "IPY_MODEL_a98974d91e624a92bfff059771075c39"
      }
     },
     "d4f1ef661c414feb80e7a63cbd85f7f5": {
      "model_module": "@jupyter-widgets/controls",
      "model_module_version": "1.5.0",
      "model_name": "ButtonModel",
      "state": {
       "description": "Sumbit",
       "layout": "IPY_MODEL_e345172b4c384180b1dd7b8ecabd0614",
       "style": "IPY_MODEL_1569c000f86b496696dc2e5ebd7d107d"
      }
     },
     "d6a6e8c72f624ed3aeace9996e6d2290": {
      "model_module": "@jupyter-widgets/base",
      "model_module_version": "1.2.0",
      "model_name": "LayoutModel",
      "state": {}
     },
     "d78d6dcc23b94f748eaea48383a012cc": {
      "model_module": "@jupyter-widgets/controls",
      "model_module_version": "1.5.0",
      "model_name": "FloatTextModel",
      "state": {
       "description": "MMSE:",
       "layout": "IPY_MODEL_142c7a1db2e54ce3af51b27c4b54b8bc",
       "step": null,
       "style": "IPY_MODEL_1e1682d21e794c97b4cb62f9ae8fec10"
      }
     },
     "d812d39b48e2411397acd8e3661a97dc": {
      "model_module": "@jupyter-widgets/controls",
      "model_module_version": "1.5.0",
      "model_name": "ButtonModel",
      "state": {
       "description": "Sumbit",
       "layout": "IPY_MODEL_b87b6623c3bd429cb0f3ad2565c7e275",
       "style": "IPY_MODEL_b610d62728d9466894f75e0a7962734f"
      }
     },
     "d9d1d209413b4e2293a99a9638a295ed": {
      "model_module": "@jupyter-widgets/base",
      "model_module_version": "1.2.0",
      "model_name": "LayoutModel",
      "state": {}
     },
     "d9d765f2b2264147aa728c6512b070df": {
      "model_module": "@jupyter-widgets/base",
      "model_module_version": "1.2.0",
      "model_name": "LayoutModel",
      "state": {}
     },
     "dae3bf74cf564fb3a734bded9fc59743": {
      "model_module": "@jupyter-widgets/controls",
      "model_module_version": "1.5.0",
      "model_name": "FloatTextModel",
      "state": {
       "description": "nWBV:",
       "layout": "IPY_MODEL_0dd69fff31ce4d97b4e097c3940e3385",
       "step": null,
       "style": "IPY_MODEL_9fea194201974c2c833afa8c0bef8b19"
      }
     },
     "dd3b77907e914334826e98a390da32e0": {
      "model_module": "@jupyter-widgets/base",
      "model_module_version": "1.2.0",
      "model_name": "LayoutModel",
      "state": {}
     },
     "dfff0a4789024c7b98254979d613707c": {
      "model_module": "@jupyter-widgets/controls",
      "model_module_version": "1.5.0",
      "model_name": "DescriptionStyleModel",
      "state": {
       "description_width": ""
      }
     },
     "e09878df8ccd4085ab0f39c2e257a1d3": {
      "model_module": "@jupyter-widgets/controls",
      "model_module_version": "1.5.0",
      "model_name": "FloatTextModel",
      "state": {
       "description": "ASF:",
       "layout": "IPY_MODEL_a52c0fd8d99a463293fa78c1b60dafb6",
       "step": null,
       "style": "IPY_MODEL_d2b0ca56e7cf4e96ae5dfba6a84e73bf"
      }
     },
     "e139bcfeebc3490b9056d8d2ed31d957": {
      "model_module": "@jupyter-widgets/base",
      "model_module_version": "1.2.0",
      "model_name": "LayoutModel",
      "state": {}
     },
     "e345172b4c384180b1dd7b8ecabd0614": {
      "model_module": "@jupyter-widgets/base",
      "model_module_version": "1.2.0",
      "model_name": "LayoutModel",
      "state": {
       "height": "40px",
       "width": "20%"
      }
     },
     "e53ed06c21564275864b52b7818abf5a": {
      "model_module": "@jupyter-widgets/controls",
      "model_module_version": "1.5.0",
      "model_name": "DescriptionStyleModel",
      "state": {
       "description_width": ""
      }
     },
     "e7ea9274e4444b34a14a7e033251d2ae": {
      "model_module": "@jupyter-widgets/base",
      "model_module_version": "1.2.0",
      "model_name": "LayoutModel",
      "state": {}
     },
     "e9cbde13f9cf459c8226d252e4acfdc4": {
      "model_module": "@jupyter-widgets/base",
      "model_module_version": "1.2.0",
      "model_name": "LayoutModel",
      "state": {}
     },
     "ea175d39137849a0bfce1cca06d51b77": {
      "model_module": "@jupyter-widgets/base",
      "model_module_version": "1.2.0",
      "model_name": "LayoutModel",
      "state": {}
     },
     "ea7097fd763e4c3c949bc81287985699": {
      "model_module": "@jupyter-widgets/controls",
      "model_module_version": "1.5.0",
      "model_name": "FloatTextModel",
      "state": {
       "description": "ASF:",
       "layout": "IPY_MODEL_5af47d792a5144f6a261f0c8c3c744af",
       "step": null,
       "style": "IPY_MODEL_8228c38164f24bc18e80eaa98fc76cd7"
      }
     },
     "eaa567ceb2a0460e8b027fb5cee66112": {
      "model_module": "@jupyter-widgets/controls",
      "model_module_version": "1.5.0",
      "model_name": "FloatTextModel",
      "state": {
       "description": "nWBV:",
       "layout": "IPY_MODEL_1a319963625246548c8e10ae7cda1321",
       "step": null,
       "style": "IPY_MODEL_2cede4d4f3e9403b9f19fe6bf2592094"
      }
     },
     "ecf2ae164e5b44e2a88c21c2ebd2f8d1": {
      "model_module": "@jupyter-widgets/controls",
      "model_module_version": "1.5.0",
      "model_name": "FloatTextModel",
      "state": {
       "description": "nWBV:",
       "layout": "IPY_MODEL_99355a818708433b9936574f0ea35238",
       "step": null,
       "style": "IPY_MODEL_26ea15c3234f44f4b646ff53be60b893"
      }
     },
     "ede49b425ea049849ee5fe4b9d5c4634": {
      "model_module": "@jupyter-widgets/base",
      "model_module_version": "1.2.0",
      "model_name": "LayoutModel",
      "state": {}
     },
     "ee1524a0cb5b4067b7771f294048dcfd": {
      "model_module": "@jupyter-widgets/base",
      "model_module_version": "1.2.0",
      "model_name": "LayoutModel",
      "state": {}
     },
     "eeda1d6e56d5404c8aa5a2eb96d4426f": {
      "model_module": "@jupyter-widgets/controls",
      "model_module_version": "1.5.0",
      "model_name": "DescriptionStyleModel",
      "state": {
       "description_width": ""
      }
     },
     "ef77b0e8af4f4c05960920bf56f7a51d": {
      "model_module": "@jupyter-widgets/base",
      "model_module_version": "1.2.0",
      "model_name": "LayoutModel",
      "state": {}
     },
     "f0e6a5b2567e474ebdb274d8d43b5159": {
      "model_module": "@jupyter-widgets/controls",
      "model_module_version": "1.5.0",
      "model_name": "DescriptionStyleModel",
      "state": {
       "description_width": ""
      }
     },
     "f40d55296693487394b3a4de7df1d054": {
      "model_module": "@jupyter-widgets/base",
      "model_module_version": "1.2.0",
      "model_name": "LayoutModel",
      "state": {}
     },
     "f56eef5ed8104d1bae2178ef1ed84ce2": {
      "model_module": "@jupyter-widgets/controls",
      "model_module_version": "1.5.0",
      "model_name": "ButtonModel",
      "state": {
       "description": "Sumbit",
       "layout": "IPY_MODEL_d0d626783ca74bbb9f30ca12e0d3ed35",
       "style": "IPY_MODEL_c0005ba1102f41e29ae4b95afaad8598"
      }
     },
     "f5d44b17915f4084a48973fdb2c42950": {
      "model_module": "@jupyter-widgets/base",
      "model_module_version": "1.2.0",
      "model_name": "LayoutModel",
      "state": {}
     },
     "f6bf19e2b62c4e049b7447a354ba8c9c": {
      "model_module": "@jupyter-widgets/controls",
      "model_module_version": "1.5.0",
      "model_name": "DescriptionStyleModel",
      "state": {
       "description_width": ""
      }
     },
     "f80454b12f644078925be4b1ce8f4bb7": {
      "model_module": "@jupyter-widgets/controls",
      "model_module_version": "1.5.0",
      "model_name": "FloatTextModel",
      "state": {
       "description": "MMSE:",
       "layout": "IPY_MODEL_5de538d803c24fb9a59ea5f3b06b3893",
       "step": null,
       "style": "IPY_MODEL_73ef9275d7e34ed9b2880d93b34f4d6d"
      }
     },
     "f8cc707a66994c64b7647d684ab3f4b5": {
      "model_module": "@jupyter-widgets/controls",
      "model_module_version": "1.5.0",
      "model_name": "DescriptionStyleModel",
      "state": {
       "description_width": ""
      }
     },
     "f948129bbb2a456f810cb2313527f29a": {
      "model_module": "@jupyter-widgets/controls",
      "model_module_version": "1.5.0",
      "model_name": "DescriptionStyleModel",
      "state": {
       "description_width": ""
      }
     },
     "fa758e59bcf1426e83dd0e11480c541b": {
      "model_module": "@jupyter-widgets/controls",
      "model_module_version": "1.5.0",
      "model_name": "DescriptionStyleModel",
      "state": {
       "description_width": ""
      }
     },
     "fa7ba6c90f2a4890920d6127d3440c1e": {
      "model_module": "@jupyter-widgets/controls",
      "model_module_version": "1.5.0",
      "model_name": "FloatTextModel",
      "state": {
       "description": "AGE:",
       "layout": "IPY_MODEL_ef77b0e8af4f4c05960920bf56f7a51d",
       "step": null,
       "style": "IPY_MODEL_2f6271c4a33c4d79813c2d8f0c03549a"
      }
     },
     "ff43b8ff5d824fdd94e9ebaf70c2d839": {
      "model_module": "@jupyter-widgets/controls",
      "model_module_version": "1.5.0",
      "model_name": "DescriptionStyleModel",
      "state": {
       "description_width": ""
      }
     }
    },
    "version_major": 2,
    "version_minor": 0
   }
  }
 },
 "nbformat": 4,
 "nbformat_minor": 2
}
